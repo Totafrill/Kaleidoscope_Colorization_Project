{
 "cells": [
  {
   "cell_type": "code",
   "execution_count": null,
   "id": "6ccc8fa8",
   "metadata": {},
   "outputs": [],
   "source": [
    "import onnx\n",
    "import keras2onnx\n",
    "import keras\n",
    "import os\n",
    "import tensorflow as tf\n",
    "from keras.applications.inception_resnet_v2 import InceptionResNetV2"
   ]
  },
  {
   "cell_type": "code",
   "execution_count": null,
   "id": "99bab06a",
   "metadata": {},
   "outputs": [],
   "source": [
    "model = keras.models.load_model(os.path.join(os.getcwd(), \"models//models_h5//with_fusion//best_model_lemon_500.h5\"))\n",
    "\n",
    "# Konwersja modelu na format ONNX\n",
    "onnx_model = keras2onnx.convert_keras(model)\n",
    "\n",
    "# Zapis modelu ONNX do pliku\n",
    "onnx.save_model(onnx_model,\"models\\models_onnx\\with_fusion\\\\best_model_lemon_500.onnx\")"
   ]
  }
 ],
 "metadata": {
  "kernelspec": {
   "display_name": "Python 3",
   "language": "python",
   "name": "python3"
  },
  "language_info": {
   "codemirror_mode": {
    "name": "ipython",
    "version": 3
   },
   "file_extension": ".py",
   "mimetype": "text/x-python",
   "name": "python",
   "nbconvert_exporter": "python",
   "pygments_lexer": "ipython3",
   "version": "3.6.13"
  }
 },
 "nbformat": 4,
 "nbformat_minor": 5
}

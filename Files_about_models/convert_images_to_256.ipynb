{
 "cells": [
  {
   "cell_type": "code",
   "execution_count": null,
   "id": "3ae640dd",
   "metadata": {},
   "outputs": [],
   "source": [
    "from PIL import Image\n",
    "import os\n",
    "\n",
    "def resize_images(input_folder, output_folder, target_size=(256, 256)):\n",
    "    # Upewnij się, że folder wyjściowy istnieje\n",
    "    if not os.path.exists(output_folder):\n",
    "        os.makedirs(output_folder)\n",
    "\n",
    "    # Przetwarzaj każdy plik w folderze wejściowym\n",
    "    for filename in os.listdir(input_folder):\n",
    "        input_path = os.path.join(input_folder, filename)\n",
    "        output_path = os.path.join(output_folder, filename)\n",
    "\n",
    "        # Sprawdź, czy to jest plik graficzny\n",
    "        if os.path.isfile(input_path) and filename.lower().endswith(('.png', '.jpg', '.jpeg', '.gif')):\n",
    "            try:\n",
    "                # Otwórz obrazek\n",
    "                image = Image.open(input_path)\n",
    "\n",
    "                # Przekształć obrazek\n",
    "                resized_image = image.resize(target_size)\n",
    "\n",
    "                # Zapisz przekształcony obrazek do folderu wyjściowego\n",
    "                resized_image.save(output_path)\n",
    "\n",
    "                print(f\"Przekonwertowano: {filename}\")\n",
    "\n",
    "            except Exception as e:\n",
    "                print(f\"Błąd podczas przetwarzania pliku {filename}: {str(e)}\")\n",
    "\n",
    "                \n",
    " #input_folder = \"images\\Train\\Fish_all\\gold_fish\"\n",
    "#output_folder = \"images\\Train\\Fish_all\\gold_fish\"               \n",
    "                \n",
    "if __name__ == \"__main__\":\n",
    "    \n",
    "    input_folder = \"images\\Valid_original\\Bird_all\\\\n01614925_eagle\"\n",
    "    output_folder = \"images\\Valid\\Bird_all\\\\eagle\"\n",
    "    resize_images(input_folder, output_folder)"
   ]
  },
  {
   "cell_type": "code",
   "execution_count": null,
   "id": "7f25f724",
   "metadata": {},
   "outputs": [],
   "source": []
  },
  {
   "cell_type": "code",
   "execution_count": null,
   "id": "260dacc8",
   "metadata": {},
   "outputs": [],
   "source": []
  }
 ],
 "metadata": {
  "kernelspec": {
   "display_name": "Python 3",
   "language": "python",
   "name": "python3"
  },
  "language_info": {
   "codemirror_mode": {
    "name": "ipython",
    "version": 3
   },
   "file_extension": ".py",
   "mimetype": "text/x-python",
   "name": "python",
   "nbconvert_exporter": "python",
   "pygments_lexer": "ipython3",
   "version": "3.6.13"
  }
 },
 "nbformat": 4,
 "nbformat_minor": 5
}
